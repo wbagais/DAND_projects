{
 "cells": [
  {
   "cell_type": "markdown",
   "metadata": {},
   "source": [
    "Reporting for this Project\n",
    "\n",
    "Create a 300-600 word written report called wrangle_report.pdf or wrangle_report.html that briefly describes your wrangling efforts. This is to be framed as an internal document."
   ]
  },
  {
   "cell_type": "markdown",
   "metadata": {},
   "source": [
    "#  wrangle_report\n",
    "File name: wrangle and analyze data"
   ]
  },
  {
   "cell_type": "markdown",
   "metadata": {},
   "source": [
    "## Gathering Data: \n",
    "- `twitter_archive_enhanced` save in data folder\n",
    "- `image_predictions` download it from Udacity website\n",
    "- `tweets`  \n",
    "    1. request the data from twitter API as form of JSON. Then save to in data folder with ‘tweet_json.txt’ name\n",
    "    2. read it in a list format in ‘tweet_json_list’ \n",
    "    3. select ('id','retweet_count', 'favorite_count', 'created_at','retweeted','full_text', 'in_reply_to_status_id','in_reply_to_user_id_str', 'is_quote_status') information and save it in ‘tweets’ datafram\n",
    "    4. in ‘tweet_expanded_url’ select the ‘expanded_url’ and ‘tweet_id’ from ‘tweet_json_list’.\n",
    "    5. Left join ‘tweets’ and ‘tweet_expanded_url’"
   ]
  },
  {
   "cell_type": "markdown",
   "metadata": {},
   "source": [
    "## Assessing Data:\n",
    "`twitter_archive_enhanced` \n",
    "- Display the data\n",
    "- Display the shape of the data\n",
    "- Display the info of the data\n",
    "- Chick if there is any duplicated data in \n",
    "    * Tweet_id --> there is no duplicate ids\n",
    "    * Name --> there is some duplicate names\n",
    "- Describe the data\n",
    "    * Check if rating_numerator = 1776  is a mistake or not  from the text of the tweet it is not a mistake. \n",
    "    * Check how many rating_denominator not equal to 10  there id 23\n",
    "- Check if there is any value instead of the doge stage in (doggo, floofer, pupper, puppo) columns\n"
   ]
  },
  {
   "cell_type": "markdown",
   "metadata": {},
   "source": [
    "`image_predictions`\n",
    "- Display the data\n",
    "- Display the shape of the data\n",
    "- Display the info of the data\n",
    "- Display the describe of the data\n",
    "- Select sample of 5\n",
    "- Check the picture with p1_conf of 1\n",
    "    * not a correct production\n",
    "    * Check the pictures with ‘shopping_cart’ pridictions\n",
    "    * It predicts the object (jigsaw_puzzle) in the picture, not the pet\n",
    "        * <img src=\"photo/jigsaw_puzzle.jpg\">\n"
   ]
  },
  {
   "cell_type": "markdown",
   "metadata": {},
   "source": [
    "`Tweets`\n",
    "-\tDisplay the data\n",
    "-\tDisplay the shape of the data\n",
    "-\tDisplay the info of the data\n",
    "-\tDisplay the head and tail for the data\n",
    "-\tDisplay the describe of the data\n"
   ]
  },
  {
   "cell_type": "markdown",
   "metadata": {},
   "source": [
    "## Cleaning Data\n",
    "**First, I make a copy for all the data:**\n",
    "-\ttwitter_archive_clean\n",
    "-\timage_predictions_clean\n",
    "-\ttweets_clean\n",
    "In this document I will not solve all the cleaning issues in this data:\n",
    "Issues in scope of the projects:\n",
    "\n",
    "**For `twitter_archive_clean` table:**\n",
    "- ID coulmn name in `tweets` table is different than the other 2 tables\n",
    "    * Change the \"id\" column name to \"tweet_id\" in `tweets_clean` table\n",
    "    * Using rename method\n",
    "- joined `twitter_archive_enhanced` and `tweets` tables\n",
    "    * Merge `twitter_archive_clean` with `tweets_clean['retweet_count', 'favorite_count', 'created_at', 'retweeted']` tables \n",
    "    * Using merge method \n",
    "- Convert (doggo, floofer, pupper, puppo) columns into one column \"dog_stage\"\n",
    "    1. Add all data in one column called \"dog_stage\"\n",
    "    2. remove None form the text\n",
    "    3. replace 'doggopupper' to 'doggo,pupper', 'doggofloofer' to 'doggo, floofer', and 'doggopuppo' to 'doggo,puppo'\n",
    "- missing records 2354 instead of 2356\n",
    "    * delete the rows with missing retweet_count and favorite_count records (18 rows) in `twitter_archive_clean` table.Using dropna\t\n",
    "- Erroneous data type:\n",
    "    * dog_stage to category\n",
    "    * timestamp to datetime\n",
    "    * created_at to datetime\n",
    "- Delete the retweeted tweets \n",
    "    * Then Delete retweeted_status_id, retweeted_status_user_id, retweeted_status_timestamp columns since we do not have any using drop.\n",
    "- Change all values in rating_denominator to 10\n",
    "- converet \"\" to Null in the dog_stage column\n",
    "- Since we only have 79 record these two columns are not beneficial. I will drop in_reply_to_user_id and in_reply_to_status_id columns\n",
    "\n",
    "**For `image_predictions` table:**\n",
    "- chang all names to lowecase in image_predictions_clean and replace None with null\n",
    "    * Chech the name ‘lucysence it appears 11 times\n",
    "        * It is not a duplication. It is just a popular name \n",
    "        * a appears 55 times we will sove this later \n",
    "- change (a, an, the, ...) to null"
   ]
  },
  {
   "cell_type": "markdown",
   "metadata": {},
   "source": [
    "**Issues that is detected but out of this project scope**\n",
    "\n",
    "`twitter_archive_clean` table: \n",
    "- After adding the dog_stage I found a new issue in the data which is some doges assign to more than one stage. solving this problem in out of this project scope\n",
    "`image_predictions` table:\n",
    "- Some picture predicts other objects in the picture rather than the pet. For example pictures of the dog inside the shopping cart or bathtub."
   ]
  },
  {
   "cell_type": "code",
   "execution_count": null,
   "metadata": {},
   "outputs": [],
   "source": []
  }
 ],
 "metadata": {
  "kernelspec": {
   "display_name": "Python 3",
   "language": "python",
   "name": "python3"
  },
  "language_info": {
   "codemirror_mode": {
    "name": "ipython",
    "version": 3
   },
   "file_extension": ".py",
   "mimetype": "text/x-python",
   "name": "python",
   "nbconvert_exporter": "python",
   "pygments_lexer": "ipython3",
   "version": "3.6.8"
  }
 },
 "nbformat": 4,
 "nbformat_minor": 2
}
