{
 "cells": [
  {
   "cell_type": "markdown",
   "metadata": {},
   "source": [
    "# Act Report: WeRateDogs Tweets"
   ]
  },
  {
   "cell_type": "markdown",
   "metadata": {},
   "source": [
    "This document shows the analyzing of WeRateDogs tweets using data from Udasity and WeRateDogs tweets. Using a 2183 records of archive tweets and 2075 of image predictions.\n"
   ]
  },
  {
   "cell_type": "markdown",
   "metadata": {},
   "source": [
    "## Retweet, Favorite, and Rating"
   ]
  },
  {
   "cell_type": "markdown",
   "metadata": {},
   "source": [
    "WeRateDogs tweets have a high popularity since the retweets and favorite average is high. Moreover, the tweets favorite count is higher than the retweet. On average the retweet count is 1267 while the favorite count is 3883.  We also have the one extraordinary rating which is 1776/10. While the average is 11.\n",
    "It seems that there is no link between the rating and the popularity of the tweet. The most popular tweet (highest retweet and favorite) ratting is slightly higher than the average 13/10. \n"
   ]
  },
  {
   "cell_type": "markdown",
   "metadata": {},
   "source": [
    "\n",
    "**The Tweets that get the highest number of retweets and highest favorite is:** \n",
    "- Retweet count: 83327\n",
    "- Favorite count: 163858\n",
    "- Rating: 13/10\n",
    "- Dog stage: doggo\n",
    "- Link: https://twitter.com/dog_rates/status/744234799360020481/video/1 \n",
    "<img src=\"photo/highest_retweet.png\">"
   ]
  },
  {
   "cell_type": "markdown",
   "metadata": {},
   "source": [
    "**The highest rated tweet is:**\n",
    "- Retweet count: 2620\n",
    "- Favorite count: 5364\n",
    "- Rating: 1776/10\n",
    "- Link: https://twitter.com/dog_rates/status/749981277374128128/photo/1 \n",
    "<img src=\"photo/highest_rating.png\">"
   ]
  },
  {
   "cell_type": "markdown",
   "metadata": {},
   "source": [
    "Most popular dog stage is pupper, keeping in mind that we only have 344 records of ‘dog stage’.\n",
    "\n",
    "**dog_stage**\n",
    "- doggo --> 75\n",
    "- doggo, floofer --> 1\n",
    "- doggo, pupper --> 10\n",
    "- doggo, puppo --> 1\n",
    "- floofer --> 9\n",
    "- pupper --> 224\n",
    "- puppo --> 24\n",
    "<img src=\"photo/dog_stage.png\">"
   ]
  },
  {
   "cell_type": "markdown",
   "metadata": {},
   "source": [
    "\n",
    "Most of the people active in November, and December. And they are not very active in August, September, and October. \n",
    " \n",
    "<img src=\"photo/monthes.png\">\n",
    "\n"
   ]
  },
  {
   "cell_type": "markdown",
   "metadata": {},
   "source": [
    "From the “image prediction” table which predict the breed of the dog, animal, or any object in each tweet based on a neutral network. The percentage of images is:\n",
    "-\tAround 74% are dogs with 60%confidance. \n",
    "-\tAround 75% are dogs with 13%confidance. \n",
    "-\tAround 72% are dogs with 6%confidance. \n",
    "However, it is higher than that because some of the pictures predict the background object instead of the dog. "
   ]
  }
 ],
 "metadata": {
  "kernelspec": {
   "display_name": "Python 3",
   "language": "python",
   "name": "python3"
  },
  "language_info": {
   "codemirror_mode": {
    "name": "ipython",
    "version": 3
   },
   "file_extension": ".py",
   "mimetype": "text/x-python",
   "name": "python",
   "nbconvert_exporter": "python",
   "pygments_lexer": "ipython3",
   "version": "3.6.8"
  }
 },
 "nbformat": 4,
 "nbformat_minor": 2
}
